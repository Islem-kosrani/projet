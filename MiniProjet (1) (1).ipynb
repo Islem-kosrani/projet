{
 "cells": [
  {
   "cell_type": "code",
   "execution_count": 1,
   "metadata": {},
   "outputs": [],
   "source": [
    "from random import choice"
   ]
  },
  {
   "cell_type": "code",
   "execution_count": 2,
   "metadata": {},
   "outputs": [],
   "source": [
    "#initialisation des tableaux\n",
    "t = [\"Rock\", \"Paper\", \"Scissor\"]\n",
    "win=[[t[0],t[2]],[t[2],t[1]],[t[1],t[0]]]"
   ]
  },
  {
   "cell_type": "code",
   "execution_count": 3,
   "metadata": {},
   "outputs": [],
   "source": [
    "player= lambda : input(\"Rock, Paper, Scissor ? \")"
   ]
  },
  {
   "cell_type": "code",
   "execution_count": 4,
   "metadata": {},
   "outputs": [],
   "source": [
    "again = lambda : input(\"play again ? [Y/N]\")"
   ]
  },
  {
   "cell_type": "code",
   "execution_count": 5,
   "metadata": {},
   "outputs": [],
   "source": [
    "player1_score=0;\n",
    "player2_score=0;\n",
    "tie=0;"
   ]
  },
  {
   "cell_type": "code",
   "execution_count": 6,
   "metadata": {},
   "outputs": [],
   "source": [
    "#simulation du jeu \n",
    "def game():\n",
    "    global player1_score,player2_score,tie\n",
    "    player1=player();\n",
    "    player2=choice(t); \n",
    "    while player1 not in t :\n",
    "        print(\"That's not a valid choice !\")\n",
    "        player1=player();\n",
    "    if player1==player2 :\n",
    "        print(\"Tie!\")\n",
    "        tie+=1;\n",
    "    elif [player1,player2] in win :\n",
    "        print(\"You win!\")\n",
    "        player1_score+=1;\n",
    "    else : \n",
    "        print(\"You lose...\")\n",
    "        player2_score+=1;"
   ]
  },
  {
   "cell_type": "code",
   "execution_count": 7,
   "metadata": {},
   "outputs": [
    {
     "name": "stdout",
     "output_type": "stream",
     "text": [
      "Rock, Paper, Scissor ? Rock\n",
      "You win!\n"
     ]
    }
   ],
   "source": [
    "game()"
   ]
  },
  {
   "cell_type": "code",
   "execution_count": 8,
   "metadata": {},
   "outputs": [
    {
     "name": "stdout",
     "output_type": "stream",
     "text": [
      "play again ? [Y/N]N\n"
     ]
    }
   ],
   "source": [
    "answer = again()\n",
    "while answer not in [\"Y\",\"N\"] :\n",
    "     print(\"That's not a valid choice !\")"
   ]
  },
  {
   "cell_type": "code",
   "execution_count": 9,
   "metadata": {},
   "outputs": [
    {
     "name": "stdout",
     "output_type": "stream",
     "text": [
      "End of the game\n",
      "le pourcentage de gagner est 1*100/1 %:\n"
     ]
    }
   ],
   "source": [
    "while answer==\"Y\" :\n",
    "     game()\n",
    "else :\n",
    "    print(\"End of the game\");\n",
    "    # print(\"You won {} out of {} games/s with {} tie/s\".format(player1_score,player1_score+player2_score+tie,tie))\n",
    "    print(\"le pourcentage de gagner est {}*100/{} %:\".format(player1_score,player1_score+player2_score+tie))"
   ]
  },
  {
   "cell_type": "code",
   "execution_count": null,
   "metadata": {},
   "outputs": [],
   "source": []
  }
 ],
 "metadata": {
  "kernelspec": {
   "display_name": "Python 3",
   "language": "python",
   "name": "python3"
  },
  "language_info": {
   "codemirror_mode": {
    "name": "ipython",
    "version": 3
   },
   "file_extension": ".py",
   "mimetype": "text/x-python",
   "name": "python",
   "nbconvert_exporter": "python",
   "pygments_lexer": "ipython3",
   "version": "3.8.3"
  }
 },
 "nbformat": 4,
 "nbformat_minor": 4
}
